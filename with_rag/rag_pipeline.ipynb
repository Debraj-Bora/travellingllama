{
 "cells": [
  {
   "cell_type": "code",
   "execution_count": 1,
   "id": "89494ca4-34ce-4d47-b2d5-1ae9992df92a",
   "metadata": {},
   "outputs": [],
   "source": [
    "import geojson\n",
    "from langchain.vectorstores import Chroma\n",
    "from langchain_ollama import ChatOllama, OllamaEmbeddings\n",
    "from langchain.chains import RetrievalQA, LLMChain\n",
    "from langchain.prompts import PromptTemplate\n",
    "from IPython.display import Markdown, display\n",
    "from langchain.text_splitter import RecursiveCharacterTextSplitter\n",
    "import os"
   ]
  },
  {
   "cell_type": "code",
   "execution_count": 2,
   "id": "f76894e9-29b8-4284-ad1a-a6b0bf8310da",
   "metadata": {},
   "outputs": [],
   "source": [
    "def load_geojson_from_directory(directory_path):\n",
    "    geojson_texts = []\n",
    "    for filename in os.listdir(directory_path):\n",
    "        if filename.endswith('.geojson'):\n",
    "            file_path = os.path.join(directory_path, filename)\n",
    "            with open(file_path) as f:\n",
    "                data = geojson.load(f)\n",
    "            # Extract text from each GeoJSON file\n",
    "            geojson_texts.extend(extract_geojson_text(data))\n",
    "    return geojson_texts\n",
    "\n",
    "# Function to extract relevant text from GeoJSON features\n",
    "def extract_geojson_text(geojson_data):\n",
    "    return [feature['properties'] for feature in geojson_data['features']]\n",
    "\n"
   ]
  },
  {
   "cell_type": "code",
   "execution_count": 3,
   "id": "728630fd-71ff-4a75-a96c-320668b5ec16",
   "metadata": {},
   "outputs": [],
   "source": [
    "# Path to the directory containing your GeoJSON files\n",
    "directory_path = 'data'\n",
    "\n",
    "# Load all GeoJSON texts from the directory\n",
    "geojson_texts = load_geojson_from_directory(directory_path)"
   ]
  },
  {
   "cell_type": "code",
   "execution_count": 4,
   "id": "8c82e014-b4bd-44f0-94dd-a99930970d0f",
   "metadata": {},
   "outputs": [],
   "source": [
    "splitter = RecursiveCharacterTextSplitter(chunk_size=500, chunk_overlap=50)\n",
    "\n",
    "# Split the text data\n",
    "split_geojson_texts = []\n",
    "for text in geojson_texts:\n",
    "    chunks = splitter.split_text(str(text))  # Ensure data is stringified if not already\n",
    "    split_geojson_texts.extend(chunks)"
   ]
  },
  {
   "cell_type": "code",
   "execution_count": 5,
   "id": "418c6c66-dc9d-4066-a71f-11feb9ed5122",
   "metadata": {},
   "outputs": [],
   "source": [
    "embedding_fun = OllamaEmbeddings(model='nomic-embed-text')"
   ]
  },
  {
   "cell_type": "code",
   "execution_count": 6,
   "id": "e2ff7696-2625-405f-aa45-f03cb20d4084",
   "metadata": {},
   "outputs": [],
   "source": [
    "persist_directory = 'db4'"
   ]
  },
  {
   "cell_type": "code",
   "execution_count": 7,
   "id": "3cc455ab-3737-4c9d-b045-44a6ab2fdeaa",
   "metadata": {},
   "outputs": [],
   "source": [
    "vectordb = Chroma.from_texts(split_geojson_texts, embedding_fun, persist_directory=persist_directory)"
   ]
  },
  {
   "cell_type": "code",
   "execution_count": 20,
   "id": "674009c0-d3e8-4afd-b45d-1d41363baa13",
   "metadata": {},
   "outputs": [],
   "source": [
    "llm = ChatOllama(model=\"llama3.2:1b\")"
   ]
  },
  {
   "cell_type": "code",
   "execution_count": 9,
   "id": "07fedb19-7e37-48b9-a028-d861234a90aa",
   "metadata": {},
   "outputs": [],
   "source": [
    "prompt = PromptTemplate(\n",
    "    template=\"\"\"You are an assistant. Use the following document to answer the user's question:\n",
    "    Document: {context}\n",
    "    \n",
    "    Question: {question}\n",
    "    \n",
    "    Answer:\"\"\",\n",
    "    input_variables=[\"context\", \"question\"]\n",
    ")"
   ]
  },
  {
   "cell_type": "code",
   "execution_count": 10,
   "id": "2e7085c7-c0f4-4514-a9ce-607e108cfcd0",
   "metadata": {},
   "outputs": [],
   "source": [
    "def format_context(docs):\n",
    "    # Join the page content from the retrieved documents into a single string\n",
    "    return \"\\n\\n\".join([doc.page_content for doc in docs])"
   ]
  },
  {
   "cell_type": "code",
   "execution_count": 11,
   "id": "6ee5a027-b7f9-4330-826b-b3b212f5cc5b",
   "metadata": {},
   "outputs": [],
   "source": [
    "qa_pipeline = RetrievalQA.from_chain_type(\n",
    "    llm, retriever=vectordb.as_retriever(), chain_type_kwargs={\"prompt\": prompt}\n",
    ")"
   ]
  },
  {
   "cell_type": "code",
   "execution_count": 76,
   "id": "a8d5c6ef-7765-41fb-b6f1-87af7dda3b06",
   "metadata": {},
   "outputs": [],
   "source": [
    "query = \"What is the street address of Lifeline Hospital and Research Centre?\"\n",
    "retrieved_docs = qa_pipeline.retriever.get_relevant_documents(query)"
   ]
  },
  {
   "cell_type": "code",
   "execution_count": 77,
   "id": "4b9ced86-26fa-460f-aca6-0814b0f82c19",
   "metadata": {},
   "outputs": [],
   "source": [
    "formatted_context = format_context(retrieved_docs)"
   ]
  },
  {
   "cell_type": "code",
   "execution_count": 78,
   "id": "c154644c-9f53-4708-abb2-8b963c21d5d2",
   "metadata": {},
   "outputs": [],
   "source": [
    "response = qa_pipeline.run({\n",
    "    \"context\": formatted_context,\n",
    "    \"query\": query\n",
    "})"
   ]
  },
  {
   "cell_type": "code",
   "execution_count": 79,
   "id": "38987bf1-cd15-4eb4-b8d0-0f9edee67e1d",
   "metadata": {},
   "outputs": [
    {
     "data": {
      "text/markdown": [
       "The street address of Lifeline Hospital and Research Centre is 'Jagat Goswami Road'."
      ],
      "text/plain": [
       "<IPython.core.display.Markdown object>"
      ]
     },
     "metadata": {},
     "output_type": "display_data"
    }
   ],
   "source": [
    "display(Markdown(response))"
   ]
  },
  {
   "cell_type": "code",
   "execution_count": null,
   "id": "234f3c9a-864d-4e89-bd32-a5a2e88fcbca",
   "metadata": {},
   "outputs": [],
   "source": []
  }
 ],
 "metadata": {
  "kernelspec": {
   "display_name": "Python 3 (ipykernel)",
   "language": "python",
   "name": "python3"
  },
  "language_info": {
   "codemirror_mode": {
    "name": "ipython",
    "version": 3
   },
   "file_extension": ".py",
   "mimetype": "text/x-python",
   "name": "python",
   "nbconvert_exporter": "python",
   "pygments_lexer": "ipython3",
   "version": "3.12.7"
  }
 },
 "nbformat": 4,
 "nbformat_minor": 5
}
